{
 "cells": [
  {
   "cell_type": "code",
   "execution_count": 1,
   "id": "d64b5b71",
   "metadata": {},
   "outputs": [],
   "source": [
    "%load_ext watermark"
   ]
  },
  {
   "cell_type": "code",
   "execution_count": 2,
   "id": "ce17c34d",
   "metadata": {},
   "outputs": [
    {
     "name": "stdout",
     "output_type": "stream",
     "text": [
      "Last updated: 2023-07-22T13:23:00.254308-06:00\n",
      "\n",
      "Python implementation: CPython\n",
      "Python version       : 3.10.11\n",
      "IPython version      : 8.12.0\n",
      "\n",
      "Compiler    : GCC 11.2.0\n",
      "OS          : Linux\n",
      "Release     : 6.2.0-25-generic\n",
      "Machine     : x86_64\n",
      "Processor   : x86_64\n",
      "CPU cores   : 6\n",
      "Architecture: 64bit\n",
      "\n"
     ]
    }
   ],
   "source": [
    "%watermark"
   ]
  },
  {
   "cell_type": "code",
   "execution_count": 3,
   "id": "bac5ac7c",
   "metadata": {},
   "outputs": [
    {
     "name": "stdout",
     "output_type": "stream",
     "text": [
      "\u001b[0m\u001b[01;34mHacking\u001b[0m/  \u001b[01;34mJupyter\u001b[0m/  README.md  \u001b[01;34mSecciones\u001b[0m/\r\n"
     ]
    }
   ],
   "source": [
    "ls ../"
   ]
  },
  {
   "cell_type": "code",
   "execution_count": 4,
   "id": "e7553c6b",
   "metadata": {},
   "outputs": [],
   "source": [
    "import pandas as pd"
   ]
  },
  {
   "cell_type": "code",
   "execution_count": 5,
   "id": "3e68b184",
   "metadata": {},
   "outputs": [],
   "source": [
    "vehiculos = pd.read_csv(\"/home/carlostr/curso_data_science-master/Secciones/Seccion4.Analisis_y_procesado_de_datos/Procesado_de_Datos/data/vehiculos_original.csv\")"
   ]
  },
  {
   "cell_type": "code",
   "execution_count": 6,
   "id": "1f04df3f",
   "metadata": {},
   "outputs": [],
   "source": [
    "vehiculos = vehiculos.rename(columns={\n",
    "    \"make\":\"marca\",\n",
    "    \"model\":\"modelo\",\n",
    "    \"year\":\"year\",\n",
    "    \"displ\":\"desplazamiento\",\n",
    "    \"cylinders\":\"cilindros\",\n",
    "    \"trany\":\"transmision\",\n",
    "    \"drive\":\"traccion\",\n",
    "    \"VClass\":\"clase\",\n",
    "    \"fuelType\":\"combustible\",\n",
    "    \"comb08\":\"consumo\",\n",
    "    \"co2TailpipeGpm\":\"co2\"}\n",
    ")"
   ]
  },
  {
   "cell_type": "code",
   "execution_count": 7,
   "id": "81966550",
   "metadata": {},
   "outputs": [
    {
     "data": {
      "text/html": [
       "<div>\n",
       "<style scoped>\n",
       "    .dataframe tbody tr th:only-of-type {\n",
       "        vertical-align: middle;\n",
       "    }\n",
       "\n",
       "    .dataframe tbody tr th {\n",
       "        vertical-align: top;\n",
       "    }\n",
       "\n",
       "    .dataframe thead th {\n",
       "        text-align: right;\n",
       "    }\n",
       "</style>\n",
       "<table border=\"1\" class=\"dataframe\">\n",
       "  <thead>\n",
       "    <tr style=\"text-align: right;\">\n",
       "      <th></th>\n",
       "      <th>marca</th>\n",
       "      <th>modelo</th>\n",
       "      <th>year</th>\n",
       "      <th>desplazamiento</th>\n",
       "      <th>cilindros</th>\n",
       "      <th>transmision</th>\n",
       "      <th>traccion</th>\n",
       "      <th>clase</th>\n",
       "      <th>combustible</th>\n",
       "      <th>consumo</th>\n",
       "      <th>co2</th>\n",
       "    </tr>\n",
       "  </thead>\n",
       "  <tbody>\n",
       "    <tr>\n",
       "      <th>0</th>\n",
       "      <td>AM General</td>\n",
       "      <td>DJ Po Vehicle 2WD</td>\n",
       "      <td>1984</td>\n",
       "      <td>2.5</td>\n",
       "      <td>4.0</td>\n",
       "      <td>Automatic 3-spd</td>\n",
       "      <td>2-Wheel Drive</td>\n",
       "      <td>Special Purpose Vehicle 2WD</td>\n",
       "      <td>Regular</td>\n",
       "      <td>17</td>\n",
       "      <td>522.764706</td>\n",
       "    </tr>\n",
       "    <tr>\n",
       "      <th>1</th>\n",
       "      <td>AM General</td>\n",
       "      <td>DJ Po Vehicle 2WD</td>\n",
       "      <td>1984</td>\n",
       "      <td>2.5</td>\n",
       "      <td>4.0</td>\n",
       "      <td>Automatic 3-spd</td>\n",
       "      <td>2-Wheel Drive</td>\n",
       "      <td>Special Purpose Vehicle 2WD</td>\n",
       "      <td>Regular</td>\n",
       "      <td>17</td>\n",
       "      <td>522.764706</td>\n",
       "    </tr>\n",
       "    <tr>\n",
       "      <th>2</th>\n",
       "      <td>AM General</td>\n",
       "      <td>FJ8c Post Office</td>\n",
       "      <td>1984</td>\n",
       "      <td>4.2</td>\n",
       "      <td>6.0</td>\n",
       "      <td>Automatic 3-spd</td>\n",
       "      <td>2-Wheel Drive</td>\n",
       "      <td>Special Purpose Vehicle 2WD</td>\n",
       "      <td>Regular</td>\n",
       "      <td>13</td>\n",
       "      <td>683.615385</td>\n",
       "    </tr>\n",
       "    <tr>\n",
       "      <th>3</th>\n",
       "      <td>AM General</td>\n",
       "      <td>FJ8c Post Office</td>\n",
       "      <td>1984</td>\n",
       "      <td>4.2</td>\n",
       "      <td>6.0</td>\n",
       "      <td>Automatic 3-spd</td>\n",
       "      <td>2-Wheel Drive</td>\n",
       "      <td>Special Purpose Vehicle 2WD</td>\n",
       "      <td>Regular</td>\n",
       "      <td>13</td>\n",
       "      <td>683.615385</td>\n",
       "    </tr>\n",
       "    <tr>\n",
       "      <th>4</th>\n",
       "      <td>AM General</td>\n",
       "      <td>Post Office DJ5 2WD</td>\n",
       "      <td>1985</td>\n",
       "      <td>2.5</td>\n",
       "      <td>4.0</td>\n",
       "      <td>Automatic 3-spd</td>\n",
       "      <td>Rear-Wheel Drive</td>\n",
       "      <td>Special Purpose Vehicle 2WD</td>\n",
       "      <td>Regular</td>\n",
       "      <td>16</td>\n",
       "      <td>555.437500</td>\n",
       "    </tr>\n",
       "  </tbody>\n",
       "</table>\n",
       "</div>"
      ],
      "text/plain": [
       "        marca               modelo  year  desplazamiento  cilindros  \\\n",
       "0  AM General    DJ Po Vehicle 2WD  1984             2.5        4.0   \n",
       "1  AM General    DJ Po Vehicle 2WD  1984             2.5        4.0   \n",
       "2  AM General     FJ8c Post Office  1984             4.2        6.0   \n",
       "3  AM General     FJ8c Post Office  1984             4.2        6.0   \n",
       "4  AM General  Post Office DJ5 2WD  1985             2.5        4.0   \n",
       "\n",
       "       transmision          traccion                        clase combustible  \\\n",
       "0  Automatic 3-spd     2-Wheel Drive  Special Purpose Vehicle 2WD     Regular   \n",
       "1  Automatic 3-spd     2-Wheel Drive  Special Purpose Vehicle 2WD     Regular   \n",
       "2  Automatic 3-spd     2-Wheel Drive  Special Purpose Vehicle 2WD     Regular   \n",
       "3  Automatic 3-spd     2-Wheel Drive  Special Purpose Vehicle 2WD     Regular   \n",
       "4  Automatic 3-spd  Rear-Wheel Drive  Special Purpose Vehicle 2WD     Regular   \n",
       "\n",
       "   consumo         co2  \n",
       "0       17  522.764706  \n",
       "1       17  522.764706  \n",
       "2       13  683.615385  \n",
       "3       13  683.615385  \n",
       "4       16  555.437500  "
      ]
     },
     "execution_count": 7,
     "metadata": {},
     "output_type": "execute_result"
    }
   ],
   "source": [
    "vehiculos.head(5)"
   ]
  },
  {
   "cell_type": "code",
   "execution_count": 10,
   "id": "1da94f1c",
   "metadata": {},
   "outputs": [],
   "source": [
    "vehiculos['modelo_unico']=vehiculos.marca.str.cat([vehiculos.modelo,vehiculos.year.apply(str)],sep='-') # marca-modelo-year"
   ]
  },
  {
   "cell_type": "code",
   "execution_count": 11,
   "id": "5745c5da",
   "metadata": {},
   "outputs": [
    {
     "data": {
      "text/plain": [
       "Jeep-Cherokee/Wagoneer-1985               24\n",
       "Ford-F150 Pickup 2WD-1984                 19\n",
       "GMC-C15 Pickup 2WD-1984                   19\n",
       "Chevrolet-C10 Pickup 2WD-1984             19\n",
       "GMC-C15 Pickup 2WD-1985                   18\n",
       "                                          ..\n",
       "Mercedes-Benz-C300-2015                    1\n",
       "Mercedes-Benz-C300-2009                    1\n",
       "Mercedes-Benz-C280 4matic-2007             1\n",
       "Mercedes-Benz-C280 4matic-2006             1\n",
       "smart-fortwo electric drive coupe-2016     1\n",
       "Name: modelo_unico, Length: 17448, dtype: int64"
      ]
     },
     "execution_count": 11,
     "metadata": {},
     "output_type": "execute_result"
    }
   ],
   "source": [
    "vehiculos.modelo_unico.value_counts() #vemos cuales valores estan repetidos"
   ]
  },
  {
   "cell_type": "code",
   "execution_count": 12,
   "id": "b9bb6ea7",
   "metadata": {},
   "outputs": [
    {
     "data": {
      "text/plain": [
       "(1506, 12)"
      ]
     },
     "execution_count": 12,
     "metadata": {},
     "output_type": "execute_result"
    }
   ],
   "source": [
    "vehiculos[vehiculos.duplicated()].shape #vemos cuantos duplicados hay"
   ]
  },
  {
   "cell_type": "code",
   "execution_count": 13,
   "id": "f42019a8",
   "metadata": {},
   "outputs": [
    {
     "data": {
      "text/plain": [
       "(36930, 12)"
      ]
     },
     "execution_count": 13,
     "metadata": {},
     "output_type": "execute_result"
    }
   ],
   "source": [
    "vehiculos = vehiculos.drop_duplicates()\n",
    "vehiculos.shape"
   ]
  },
  {
   "cell_type": "code",
   "execution_count": 14,
   "id": "63ad5d1a",
   "metadata": {},
   "outputs": [],
   "source": [
    "del vehiculos['modelo_unico']"
   ]
  },
  {
   "cell_type": "code",
   "execution_count": 15,
   "id": "8f0e5d3c",
   "metadata": {},
   "outputs": [],
   "source": [
    "df_co2 = vehiculos.sort_values(by='co2',ascending=False)"
   ]
  },
  {
   "cell_type": "code",
   "execution_count": 16,
   "id": "b7972f43",
   "metadata": {},
   "outputs": [],
   "source": [
    "df_co2_top5 = df_co2.head(20).groupby(\"marca\")[\"co2\"].mean()"
   ]
  },
  {
   "cell_type": "markdown",
   "id": "1541f1b4",
   "metadata": {},
   "source": [
    "# Valores mas frecuentes"
   ]
  },
  {
   "cell_type": "code",
   "execution_count": 17,
   "id": "58413453",
   "metadata": {},
   "outputs": [
    {
     "name": "stdout",
     "output_type": "stream",
     "text": [
      "marca | +0.1, -0.0 | object\n",
      "modelo | +0.005, -0.0 | object\n",
      "year | +0.038, -0.007 | int64\n",
      "desplazamiento | +0.095, -0.0 | float64\n",
      "cilindros | +0.38, -0.0 | float64\n",
      "transmision | +0.287, -0.0 | object\n",
      "traccion | +0.353, -0.005 | object\n",
      "clase | +0.145, -0.0 | object\n",
      "combustible | +0.652, -0.0 | object\n",
      "consumo | +0.097, -0.0 | int64\n",
      "co2 | +0.084, -0.0 | float64\n"
     ]
    }
   ],
   "source": [
    "n_records=len(vehiculos) #para saber los valores mas frecuentes en cada columna\n",
    "def valores_duplicados_col(df):\n",
    "    for columna in df:\n",
    "        n_por_valor = df[columna].value_counts()\n",
    "        mas_comun = n_por_valor.iloc[0]\n",
    "        menos_comun = n_por_valor.iloc[-1]\n",
    "        print(\"{} | +{}, -{} | {}\".format(\n",
    "            df[columna].name,\n",
    "            round(mas_comun/n_records,3),\n",
    "            round(menos_comun/n_records,3),\n",
    "            df[columna].dtype       \n",
    "        ))\n",
    "valores_duplicados_col(vehiculos)"
   ]
  },
  {
   "cell_type": "code",
   "execution_count": 18,
   "id": "5dac3184",
   "metadata": {},
   "outputs": [
    {
     "data": {
      "text/plain": [
       "Front-Wheel Drive             0.360280\n",
       "Rear-Wheel Drive              0.352863\n",
       "4-Wheel or All-Wheel Drive    0.177345\n",
       "All-Wheel Drive               0.062325\n",
       "4-Wheel Drive                 0.030886\n",
       "2-Wheel Drive                 0.011402\n",
       "Part-time 4-Wheel Drive       0.004899\n",
       "Name: traccion, dtype: float64"
      ]
     },
     "execution_count": 18,
     "metadata": {},
     "output_type": "execute_result"
    }
   ],
   "source": [
    "vehiculos.traccion.value_counts(normalize=True) #Esta funcion nos entrega como esta distribuida la traccion por\n",
    "#porcentaje en el dataset"
   ]
  },
  {
   "cell_type": "code",
   "execution_count": 19,
   "id": "064c1c36",
   "metadata": {},
   "outputs": [],
   "source": [
    "%matplotlib inline"
   ]
  },
  {
   "cell_type": "code",
   "execution_count": 20,
   "id": "a3ae41dc",
   "metadata": {},
   "outputs": [
    {
     "data": {
      "image/png": "[encoded data removed]",
      "text/plain": [
       "<Figure size 640x480 with 1 Axes>"
      ]
     },
     "metadata": {},
     "output_type": "display_data"
    }
   ],
   "source": [
    "vehiculos.transmision.value_counts(normalize=True).plot.barh();"
   ]
  },
  {
   "cell_type": "code",
   "execution_count": 21,
   "id": "2e1aa447",
   "metadata": {},
   "outputs": [
    {
     "data": {
      "image/png": "[encoded data removed]",
      "text/plain": [
       "<Figure size 640x480 with 1 Axes>"
      ]
     },
     "metadata": {},
     "output_type": "display_data"
    }
   ],
   "source": [
    "vehiculos.cilindros.hist();"
   ]
  },
  {
   "cell_type": "code",
   "execution_count": 22,
   "id": "69e78717",
   "metadata": {},
   "outputs": [
    {
     "data": {
      "text/plain": [
       "<Axes: >"
      ]
     },
     "execution_count": 22,
     "metadata": {},
     "output_type": "execute_result"
    },
    {
     "data": {
      "image/png": "[encoded data removed]",
      "text/plain": [
       "<Figure size 640x480 with 1 Axes>"
      ]
     },
     "metadata": {},
     "output_type": "display_data"
    }
   ],
   "source": [
    "vehiculos.combustible.value_counts(normalize=True).plot.barh()"
   ]
  },
  {
   "cell_type": "markdown",
   "id": "50f5f003",
   "metadata": {},
   "source": [
    "# Valores inexistentes"
   ]
  },
  {
   "cell_type": "code",
   "execution_count": 23,
   "id": "360c5fd8",
   "metadata": {},
   "outputs": [
    {
     "name": "stdout",
     "output_type": "stream",
     "text": [
      "marca | 0.0 | object\n",
      "modelo | 0.0 | object\n",
      "year | 0.0 | int64\n",
      "desplazamiento | 0.0037909558624424585 | float64\n",
      "cilindros | 0.003845112374763065 | float64\n",
      "transmision | 0.00029786081776333605 | object\n",
      "traccion | 0.02158137015976171 | object\n",
      "clase | 0.0 | object\n",
      "combustible | 0.0 | object\n",
      "consumo | 0.0 | int64\n",
      "co2 | 0.0 | float64\n"
     ]
    }
   ],
   "source": [
    "n_records = len(vehiculos)\n",
    "def valores_inexistentes_col(df):\n",
    "    for column in df:\n",
    "        print(\"{} | {} | {}\".format(\n",
    "            df[column].name,\n",
    "            len(df[df[column].isnull()])/n_records,\n",
    "            df[column].dtype\n",
    "        ))\n",
    "valores_inexistentes_col(vehiculos)"
   ]
  },
  {
   "cell_type": "markdown",
   "id": "7037af74",
   "metadata": {},
   "source": [
    "# Valores extremos"
   ]
  },
  {
   "cell_type": "markdown",
   "id": "4b613956",
   "metadata": {},
   "source": [
    "z score:\n",
    "\n",
    "$$z(x) = \\frac{x-\\mu}{\\sigma}$$"
   ]
  },
  {
   "cell_type": "code",
   "execution_count": 24,
   "id": "d911dd2c",
   "metadata": {},
   "outputs": [
    {
     "name": "stdout",
     "output_type": "stream",
     "text": [
      "year | 0 | int64\n",
      "desplazamiento | 0 | float64\n",
      "cilindros | 0 | float64\n",
      "consumo | 233 | int64\n",
      "co2 | 358 | float64\n"
     ]
    },
    {
     "name": "stderr",
     "output_type": "stream",
     "text": [
      "/tmp/ipykernel_6121/2763098259.py:6: DeprecationWarning: `np.object` is a deprecated alias for the builtin `object`. To silence this warning, use `object` by itself. Doing this will not modify any behavior and is safe. \n",
      "Deprecated in NumPy 1.20; for more details and guidance: https://numpy.org/devdocs/release/1.20.0-notes.html#deprecations\n",
      "  if vehiculos[columna].dtype != np.object:\n"
     ]
    }
   ],
   "source": [
    "from scipy import stats\n",
    "import numpy as np\n",
    "\n",
    "def outliers_col(df):\n",
    "    for columna in df:\n",
    "        if vehiculos[columna].dtype != np.object:\n",
    "            n_outliers = len(vehiculos[np.abs(stats.zscore(vehiculos[columna]))>3])\n",
    "            print(\"{} | {} | {}\".format(\n",
    "                df[columna].name,\n",
    "                n_outliers,\n",
    "                df[columna].dtype\n",
    "            \n",
    "            ))\n",
    "\n",
    "\n",
    "outliers_col(vehiculos)"
   ]
  },
  {
   "cell_type": "code",
   "execution_count": 35,
   "id": "51e5f01c",
   "metadata": {},
   "outputs": [
    {
     "data": {
      "text/plain": [
       "<Axes: >"
      ]
     },
     "execution_count": 35,
     "metadata": {},
     "output_type": "execute_result"
    },
    {
     "data": {
      "image/png": "[encoded data removed]",
      "text/plain": [
       "<Figure size 640x480 with 1 Axes>"
      ]
     },
     "metadata": {},
     "output_type": "display_data"
    }
   ],
   "source": [
    "vehiculos.boxplot(column='consumo')"
   ]
  },
  {
   "cell_type": "code",
   "execution_count": 29,
   "id": "a74b434a",
   "metadata": {},
   "outputs": [
    {
     "data": {
      "text/plain": [
       "<Axes: >"
      ]
     },
     "execution_count": 29,
     "metadata": {},
     "output_type": "execute_result"
    },
    {
     "data": {
      "image/png": "[encoded data removed]",
      "text/plain": [
       "<Figure size 640x480 with 1 Axes>"
      ]
     },
     "metadata": {},
     "output_type": "display_data"
    }
   ],
   "source": [
    "vehiculos.boxplot(column='co2') #Forma grafica de ver outliers"
   ]
  },
  {
   "cell_type": "code",
   "execution_count": 30,
   "id": "4bc57998",
   "metadata": {},
   "outputs": [],
   "source": [
    "vehiculos_no_electricos = vehiculos[vehiculos.co2>0]"
   ]
  },
  {
   "cell_type": "code",
   "execution_count": 31,
   "id": "15dbbae3",
   "metadata": {},
   "outputs": [
    {
     "data": {
      "text/plain": [
       "array(['Electricity'], dtype=object)"
      ]
     },
     "execution_count": 31,
     "metadata": {},
     "output_type": "execute_result"
    }
   ],
   "source": [
    "vehiculos[vehiculos.co2==0].combustible.unique()"
   ]
  },
  {
   "cell_type": "code",
   "execution_count": 32,
   "id": "5a1952c1",
   "metadata": {},
   "outputs": [
    {
     "data": {
      "text/plain": [
       "array(['Regular', 'Premium', 'Diesel', 'Premium and Electricity',\n",
       "       'Premium or E85', 'Premium Gas or Electricity', 'Gasoline or E85',\n",
       "       'Gasoline or natural gas', 'CNG', 'Regular Gas or Electricity',\n",
       "       'Midgrade', 'Regular Gas and Electricity', 'Gasoline or propane'],\n",
       "      dtype=object)"
      ]
     },
     "execution_count": 32,
     "metadata": {},
     "output_type": "execute_result"
    }
   ],
   "source": [
    "vehiculos[vehiculos.co2!=0].combustible.unique()"
   ]
  },
  {
   "cell_type": "code",
   "execution_count": 33,
   "id": "9377a8af",
   "metadata": {},
   "outputs": [],
   "source": [
    "vehiculos_no_electricos.to_csv(\"/home/carlostr/curso_data_science-master/Secciones/Seccion4.Analisis_y_procesado_de_datos/Procesado_de_Datos/data/vehiculos.2.limpio_analisis\")"
   ]
  },
  {
   "cell_type": "code",
   "execution_count": 34,
   "id": "6b141f91",
   "metadata": {},
   "outputs": [
    {
     "data": {
      "text/plain": [
       "(36791, 11)"
      ]
     },
     "execution_count": 34,
     "metadata": {},
     "output_type": "execute_result"
    }
   ],
   "source": [
    "vehiculos_no_electricos.shape"
   ]
  },
  {
   "cell_type": "markdown",
   "id": "5a25d7b2",
   "metadata": {},
   "source": [
    "Vemos que variables podemos agrupar (las que tengan menos categorias)"
   ]
  },
  {
   "cell_type": "code",
   "execution_count": 36,
   "id": "083e9192",
   "metadata": {},
   "outputs": [
    {
     "name": "stdout",
     "output_type": "stream",
     "text": [
      "marca | 129 | object\n",
      "modelo | 3734 | object\n",
      "year | 35 | int64\n",
      "desplazamiento | 66 | float64\n",
      "cilindros | 10 | float64\n",
      "transmision | 38 | object\n",
      "traccion | 8 | object\n",
      "clase | 34 | object\n",
      "combustible | 13 | object\n",
      "consumo | 49 | int64\n",
      "co2 | 596 | float64\n"
     ]
    }
   ],
   "source": [
    "#funcion que cuenta los valores unicos de cada columna\n",
    "def unique_col_values(df):\n",
    "    for column in df:\n",
    "        print(\"{} | {} | {}\".format(\n",
    "            df[column].name,len(df[column].unique()),df[column].dtype\n",
    "        ))\n",
    "unique_col_values(vehiculos_no_electricos)"
   ]
  },
  {
   "cell_type": "markdown",
   "id": "adf3d6ea",
   "metadata": {},
   "source": [
    "# Agrupamos los coches por sus caracteristicas\n"
   ]
  },
  {
   "cell_type": "code",
   "execution_count": 37,
   "id": "d0d49992",
   "metadata": {},
   "outputs": [
    {
     "data": {
      "text/plain": [
       "array(['Special Purpose Vehicle 2WD', 'Midsize Cars', 'Subcompact Cars',\n",
       "       'Compact Cars', 'Sport Utility Vehicle - 4WD',\n",
       "       'Small Sport Utility Vehicle 2WD',\n",
       "       'Small Sport Utility Vehicle 4WD', 'Two Seaters',\n",
       "       'Sport Utility Vehicle - 2WD', 'Special Purpose Vehicles',\n",
       "       'Special Purpose Vehicle 4WD', 'Small Station Wagons',\n",
       "       'Minicompact Cars', 'Midsize-Large Station Wagons',\n",
       "       'Midsize Station Wagons', 'Large Cars',\n",
       "       'Standard Sport Utility Vehicle 4WD',\n",
       "       'Standard Sport Utility Vehicle 2WD', 'Minivan - 4WD',\n",
       "       'Minivan - 2WD', 'Vans', 'Vans, Cargo Type',\n",
       "       'Vans, Passenger Type', 'Standard Pickup Trucks 2WD',\n",
       "       'Standard Pickup Trucks', 'Standard Pickup Trucks/2wd',\n",
       "       'Small Pickup Trucks 2WD', 'Standard Pickup Trucks 4WD',\n",
       "       'Small Pickup Trucks 4WD', 'Small Pickup Trucks', 'Vans Passenger',\n",
       "       'Special Purpose Vehicle', 'Special Purpose Vehicles/2wd',\n",
       "       'Special Purpose Vehicles/4wd'], dtype=object)"
      ]
     },
     "execution_count": 37,
     "metadata": {},
     "output_type": "execute_result"
    }
   ],
   "source": [
    "vehiculos_no_electricos.clase.unique()"
   ]
  },
  {
   "cell_type": "markdown",
   "id": "ae41c61d",
   "metadata": {},
   "source": [
    "Por tamano"
   ]
  },
  {
   "cell_type": "code",
   "execution_count": 38,
   "id": "17394593",
   "metadata": {},
   "outputs": [],
   "source": [
    "pequeno = ['Compact Cars','Subcompact Cars','Two Seaters','Minicompact Cars']\n",
    "medio = ['Midsize Cars']\n",
    "grande = ['Large Cars']\n",
    "\n",
    "vehiculos.loc[vehiculos['clase'].isin(pequeno), \n",
    "             'clase_tipo'] = 'Coches pequeños'\n",
    "\n",
    "vehiculos.loc[vehiculos['clase'].isin(medio), \n",
    "             'clase_tipo'] = 'Coches Medianos'\n",
    "\n",
    "vehiculos.loc[vehiculos['clase'].isin(grande), \n",
    "             'clase_tipo'] = 'Coches Grandes'\n",
    "\n",
    "vehiculos.loc[vehiculos['clase'].str.contains('Truck'), \n",
    "             'clase_tipo'] = 'Camionetas'\n",
    "\n",
    "vehiculos.loc[vehiculos['clase'].str.contains('Special Purpose'), \n",
    "             'clase_tipo'] = 'Vehículos Especiales'\n",
    "\n",
    "vehiculos.loc[vehiculos['clase'].str.contains('Sport Utility'), \n",
    "             'clase_tipo'] = 'Deportivos'\n",
    "\n",
    "vehiculos.loc[vehiculos['clase'].str.contains('Station'), \n",
    "             'clase_tipo'] = 'Coche Familiar'\n",
    "\n",
    "vehiculos.loc[(vehiculos['clase'].str.lower().str.contains('van')),\n",
    "             'clase_tipo'] = 'Furgoneta'"
   ]
  },
  {
   "cell_type": "code",
   "execution_count": 39,
   "id": "f967b956",
   "metadata": {},
   "outputs": [],
   "source": [
    "vehiculos.clase_tipo = vehiculos.clase_tipo.astype(\"category\")"
   ]
  },
  {
   "cell_type": "code",
   "execution_count": 40,
   "id": "91c36931",
   "metadata": {},
   "outputs": [
    {
     "data": {
      "text/plain": [
       "Coches pequeños         13055\n",
       "Camionetas               5446\n",
       "Deportivos               5313\n",
       "Coches Medianos          4274\n",
       "Coche Familiar           2540\n",
       "Vehículos Especiales     2216\n",
       "Furgoneta                2213\n",
       "Coches Grandes           1873\n",
       "Name: clase_tipo, dtype: int64"
      ]
     },
     "execution_count": 40,
     "metadata": {},
     "output_type": "execute_result"
    }
   ],
   "source": [
    "vehiculos.clase_tipo.value_counts()"
   ]
  },
  {
   "cell_type": "markdown",
   "id": "d35c339a",
   "metadata": {},
   "source": [
    "Por traccion"
   ]
  },
  {
   "cell_type": "code",
   "execution_count": 41,
   "id": "08b3c308",
   "metadata": {},
   "outputs": [
    {
     "data": {
      "text/plain": [
       "array(['2-Wheel Drive', 'Rear-Wheel Drive', 'Front-Wheel Drive',\n",
       "       '4-Wheel or All-Wheel Drive', 'All-Wheel Drive', nan,\n",
       "       '4-Wheel Drive', 'Part-time 4-Wheel Drive'], dtype=object)"
      ]
     },
     "execution_count": 41,
     "metadata": {},
     "output_type": "execute_result"
    }
   ],
   "source": [
    "vehiculos.traccion.unique()"
   ]
  },
  {
   "cell_type": "code",
   "execution_count": 42,
   "id": "eb91b2c3",
   "metadata": {},
   "outputs": [
    {
     "name": "stderr",
     "output_type": "stream",
     "text": [
      "/tmp/ipykernel_6121/3922553055.py:2: SettingWithCopyWarning: \n",
      "A value is trying to be set on a copy of a slice from a DataFrame\n",
      "\n",
      "See the caveats in the documentation: https://pandas.pydata.org/pandas-docs/stable/user_guide/indexing.html#returning-a-view-versus-a-copy\n",
      "  vehiculos[\"traccion_tipo\"][vehiculos.traccion.isin([\n"
     ]
    }
   ],
   "source": [
    "vehiculos[\"traccion_tipo\"] = \"dos\"\n",
    "vehiculos[\"traccion_tipo\"][vehiculos.traccion.isin([\n",
    "    \"4-Wheel or All-Wheel Drive\", \"All-Wheel Drive\",\n",
    "    \"4-Wheel Drive\", \"Part-time 4-Wheel Drive\"\n",
    "])] = \"cuatro\""
   ]
  },
  {
   "cell_type": "code",
   "execution_count": 43,
   "id": "c353f093",
   "metadata": {},
   "outputs": [],
   "source": [
    "pd.set_option('chained_assignment',None) #deshabilitar el warning"
   ]
  },
  {
   "cell_type": "code",
   "execution_count": 44,
   "id": "77c661c5",
   "metadata": {},
   "outputs": [],
   "source": [
    "vehiculos.traccion_tipo = vehiculos.traccion_tipo.astype(\"category\")"
   ]
  },
  {
   "cell_type": "markdown",
   "id": "f670e202",
   "metadata": {},
   "source": [
    "Por transmision"
   ]
  },
  {
   "cell_type": "code",
   "execution_count": 45,
   "id": "edf34b83",
   "metadata": {},
   "outputs": [
    {
     "data": {
      "text/plain": [
       "array(['Automatic 3-spd', 'Automatic 4-spd', 'Manual 5-spd',\n",
       "       'Automatic (S5)', 'Manual 6-spd', 'Automatic 5-spd',\n",
       "       'Automatic (AM8)', 'Automatic (AM-S8)', 'Automatic (AV-S7)',\n",
       "       'Automatic (S6)', 'Automatic (S9)', 'Automatic (AM-S7)',\n",
       "       'Automatic (S4)', 'Automatic (AM-S9)', 'Automatic (S7)',\n",
       "       'Automatic (AM7)', 'Automatic (AM6)', 'Automatic 6-spd',\n",
       "       'Automatic 8-spd', 'Manual 4-spd', 'Automatic (S8)',\n",
       "       'Manual 7-spd', 'Automatic (AM-S6)', 'Auto(AM-S6)',\n",
       "       'Automatic (variable gear ratios)', 'Automatic (AV-S8)',\n",
       "       'Automatic (A1)', 'Automatic (AV-S6)', 'Manual 3-spd',\n",
       "       'Automatic (S10)', 'Automatic 9-spd', 'Manual 4-spd Doubled', nan,\n",
       "       'Automatic (L4)', 'Automatic (L3)', 'Automatic (AV-S10)',\n",
       "       'Automatic 7-spd', 'Automatic (AM5)'], dtype=object)"
      ]
     },
     "execution_count": 45,
     "metadata": {},
     "output_type": "execute_result"
    }
   ],
   "source": [
    "vehiculos.transmision.unique()"
   ]
  },
  {
   "cell_type": "code",
   "execution_count": 46,
   "id": "f54c603b",
   "metadata": {},
   "outputs": [],
   "source": [
    "vehiculos['transmision_tipo'] = \"Automatica\"\n",
    "vehiculos['transmision_tipo'][\n",
    "    (vehiculos['transmision'].notnull()) & (vehiculos['transmision'].str.startswith('M'))\n",
    "] = \"Manual\""
   ]
  },
  {
   "cell_type": "code",
   "execution_count": 47,
   "id": "d7195d63",
   "metadata": {},
   "outputs": [],
   "source": [
    "vehiculos.transmision_tipo = vehiculos.transmision_tipo.astype(\"category\")"
   ]
  },
  {
   "cell_type": "code",
   "execution_count": 48,
   "id": "eaf461bb",
   "metadata": {},
   "outputs": [
    {
     "data": {
      "text/plain": [
       "Automatica    25076\n",
       "Manual        11854\n",
       "Name: transmision_tipo, dtype: int64"
      ]
     },
     "execution_count": 48,
     "metadata": {},
     "output_type": "execute_result"
    }
   ],
   "source": [
    "vehiculos.transmision_tipo.value_counts()"
   ]
  },
  {
   "cell_type": "markdown",
   "id": "5fdf626f",
   "metadata": {},
   "source": [
    "Combustible"
   ]
  },
  {
   "cell_type": "code",
   "execution_count": 49,
   "id": "885c12a7",
   "metadata": {},
   "outputs": [
    {
     "data": {
      "text/plain": [
       "Regular                        24078\n",
       "Premium                        10206\n",
       "Gasoline or E85                 1215\n",
       "Diesel                           933\n",
       "Electricity                      139\n",
       "Premium or E85                   124\n",
       "Midgrade                          77\n",
       "CNG                               60\n",
       "Premium and Electricity           30\n",
       "Gasoline or natural gas           20\n",
       "Regular Gas and Electricity       20\n",
       "Premium Gas or Electricity        18\n",
       "Gasoline or propane                8\n",
       "Regular Gas or Electricity         2\n",
       "Name: combustible, dtype: int64"
      ]
     },
     "execution_count": 49,
     "metadata": {},
     "output_type": "execute_result"
    }
   ],
   "source": [
    "vehiculos.combustible.value_counts()"
   ]
  },
  {
   "cell_type": "code",
   "execution_count": 50,
   "id": "be296a5a",
   "metadata": {},
   "outputs": [],
   "source": [
    "vehiculos['combustible_tipo'] = 'Otros tipos de combustible'\n",
    "vehiculos.loc[vehiculos['combustible']=='Regular',\n",
    "             'combustible_tipo'] = 'Normal'\n",
    "vehiculos.loc[vehiculos['combustible']=='Premium',\n",
    "             'combustible_tipo'] = 'Premium'\n",
    "\n",
    "vehiculos.loc[vehiculos['combustible'].str.contains('Electricity'),\n",
    "             'combustible_tipo'] = 'Hibrido'"
   ]
  },
  {
   "cell_type": "code",
   "execution_count": 51,
   "id": "e226aeaa",
   "metadata": {},
   "outputs": [],
   "source": [
    "vehiculos.combustible_tipo = vehiculos.combustible_tipo.astype(\"category\")"
   ]
  },
  {
   "cell_type": "code",
   "execution_count": 52,
   "id": "82d9c67c",
   "metadata": {},
   "outputs": [
    {
     "data": {
      "text/plain": [
       "Normal                        24078\n",
       "Premium                       10206\n",
       "Otros tipos de combustible     2437\n",
       "Hibrido                         209\n",
       "Name: combustible_tipo, dtype: int64"
      ]
     },
     "execution_count": 52,
     "metadata": {},
     "output_type": "execute_result"
    }
   ],
   "source": [
    "vehiculos.combustible_tipo.value_counts()"
   ]
  },
  {
   "cell_type": "code",
   "execution_count": 53,
   "id": "bd2c6015",
   "metadata": {},
   "outputs": [
    {
     "data": {
      "text/html": [
       "<div>\n",
       "<style scoped>\n",
       "    .dataframe tbody tr th:only-of-type {\n",
       "        vertical-align: middle;\n",
       "    }\n",
       "\n",
       "    .dataframe tbody tr th {\n",
       "        vertical-align: top;\n",
       "    }\n",
       "\n",
       "    .dataframe thead th {\n",
       "        text-align: right;\n",
       "    }\n",
       "</style>\n",
       "<table border=\"1\" class=\"dataframe\">\n",
       "  <thead>\n",
       "    <tr style=\"text-align: right;\">\n",
       "      <th></th>\n",
       "      <th>marca</th>\n",
       "      <th>modelo</th>\n",
       "      <th>year</th>\n",
       "      <th>desplazamiento</th>\n",
       "      <th>cilindros</th>\n",
       "      <th>transmision</th>\n",
       "      <th>traccion</th>\n",
       "      <th>clase</th>\n",
       "      <th>combustible</th>\n",
       "      <th>consumo</th>\n",
       "      <th>co2</th>\n",
       "      <th>clase_tipo</th>\n",
       "      <th>traccion_tipo</th>\n",
       "      <th>transmision_tipo</th>\n",
       "      <th>combustible_tipo</th>\n",
       "    </tr>\n",
       "  </thead>\n",
       "  <tbody>\n",
       "    <tr>\n",
       "      <th>0</th>\n",
       "      <td>AM General</td>\n",
       "      <td>DJ Po Vehicle 2WD</td>\n",
       "      <td>1984</td>\n",
       "      <td>2.5</td>\n",
       "      <td>4.0</td>\n",
       "      <td>Automatic 3-spd</td>\n",
       "      <td>2-Wheel Drive</td>\n",
       "      <td>Special Purpose Vehicle 2WD</td>\n",
       "      <td>Regular</td>\n",
       "      <td>17</td>\n",
       "      <td>522.764706</td>\n",
       "      <td>Vehículos Especiales</td>\n",
       "      <td>dos</td>\n",
       "      <td>Automatica</td>\n",
       "      <td>Normal</td>\n",
       "    </tr>\n",
       "    <tr>\n",
       "      <th>2</th>\n",
       "      <td>AM General</td>\n",
       "      <td>FJ8c Post Office</td>\n",
       "      <td>1984</td>\n",
       "      <td>4.2</td>\n",
       "      <td>6.0</td>\n",
       "      <td>Automatic 3-spd</td>\n",
       "      <td>2-Wheel Drive</td>\n",
       "      <td>Special Purpose Vehicle 2WD</td>\n",
       "      <td>Regular</td>\n",
       "      <td>13</td>\n",
       "      <td>683.615385</td>\n",
       "      <td>Vehículos Especiales</td>\n",
       "      <td>dos</td>\n",
       "      <td>Automatica</td>\n",
       "      <td>Normal</td>\n",
       "    </tr>\n",
       "    <tr>\n",
       "      <th>4</th>\n",
       "      <td>AM General</td>\n",
       "      <td>Post Office DJ5 2WD</td>\n",
       "      <td>1985</td>\n",
       "      <td>2.5</td>\n",
       "      <td>4.0</td>\n",
       "      <td>Automatic 3-spd</td>\n",
       "      <td>Rear-Wheel Drive</td>\n",
       "      <td>Special Purpose Vehicle 2WD</td>\n",
       "      <td>Regular</td>\n",
       "      <td>16</td>\n",
       "      <td>555.437500</td>\n",
       "      <td>Vehículos Especiales</td>\n",
       "      <td>dos</td>\n",
       "      <td>Automatica</td>\n",
       "      <td>Normal</td>\n",
       "    </tr>\n",
       "    <tr>\n",
       "      <th>5</th>\n",
       "      <td>AM General</td>\n",
       "      <td>Post Office DJ8 2WD</td>\n",
       "      <td>1985</td>\n",
       "      <td>4.2</td>\n",
       "      <td>6.0</td>\n",
       "      <td>Automatic 3-spd</td>\n",
       "      <td>Rear-Wheel Drive</td>\n",
       "      <td>Special Purpose Vehicle 2WD</td>\n",
       "      <td>Regular</td>\n",
       "      <td>13</td>\n",
       "      <td>683.615385</td>\n",
       "      <td>Vehículos Especiales</td>\n",
       "      <td>dos</td>\n",
       "      <td>Automatica</td>\n",
       "      <td>Normal</td>\n",
       "    </tr>\n",
       "    <tr>\n",
       "      <th>6</th>\n",
       "      <td>ASC Incorporated</td>\n",
       "      <td>GNX</td>\n",
       "      <td>1987</td>\n",
       "      <td>3.8</td>\n",
       "      <td>6.0</td>\n",
       "      <td>Automatic 4-spd</td>\n",
       "      <td>Rear-Wheel Drive</td>\n",
       "      <td>Midsize Cars</td>\n",
       "      <td>Premium</td>\n",
       "      <td>16</td>\n",
       "      <td>555.437500</td>\n",
       "      <td>Coches Medianos</td>\n",
       "      <td>dos</td>\n",
       "      <td>Automatica</td>\n",
       "      <td>Premium</td>\n",
       "    </tr>\n",
       "  </tbody>\n",
       "</table>\n",
       "</div>"
      ],
      "text/plain": [
       "              marca               modelo  year  desplazamiento  cilindros  \\\n",
       "0        AM General    DJ Po Vehicle 2WD  1984             2.5        4.0   \n",
       "2        AM General     FJ8c Post Office  1984             4.2        6.0   \n",
       "4        AM General  Post Office DJ5 2WD  1985             2.5        4.0   \n",
       "5        AM General  Post Office DJ8 2WD  1985             4.2        6.0   \n",
       "6  ASC Incorporated                  GNX  1987             3.8        6.0   \n",
       "\n",
       "       transmision          traccion                        clase combustible  \\\n",
       "0  Automatic 3-spd     2-Wheel Drive  Special Purpose Vehicle 2WD     Regular   \n",
       "2  Automatic 3-spd     2-Wheel Drive  Special Purpose Vehicle 2WD     Regular   \n",
       "4  Automatic 3-spd  Rear-Wheel Drive  Special Purpose Vehicle 2WD     Regular   \n",
       "5  Automatic 3-spd  Rear-Wheel Drive  Special Purpose Vehicle 2WD     Regular   \n",
       "6  Automatic 4-spd  Rear-Wheel Drive                 Midsize Cars     Premium   \n",
       "\n",
       "   consumo         co2            clase_tipo traccion_tipo transmision_tipo  \\\n",
       "0       17  522.764706  Vehículos Especiales           dos       Automatica   \n",
       "2       13  683.615385  Vehículos Especiales           dos       Automatica   \n",
       "4       16  555.437500  Vehículos Especiales           dos       Automatica   \n",
       "5       13  683.615385  Vehículos Especiales           dos       Automatica   \n",
       "6       16  555.437500       Coches Medianos           dos       Automatica   \n",
       "\n",
       "  combustible_tipo  \n",
       "0           Normal  \n",
       "2           Normal  \n",
       "4           Normal  \n",
       "5           Normal  \n",
       "6          Premium  "
      ]
     },
     "execution_count": 53,
     "metadata": {},
     "output_type": "execute_result"
    }
   ],
   "source": [
    "vehiculos.head()"
   ]
  },
  {
   "cell_type": "markdown",
   "id": "068f4f17",
   "metadata": {},
   "source": [
    "# Agrupar variables continuas"
   ]
  },
  {
   "cell_type": "markdown",
   "id": "e478e95a",
   "metadata": {},
   "source": [
    "Usando cuantiles podemos agrupar las variables continuas"
   ]
  },
  {
   "cell_type": "code",
   "execution_count": 54,
   "id": "98a2d761",
   "metadata": {},
   "outputs": [],
   "source": [
    "tipos_tamaño_motor = ['muy pequeño',\"pequeño\",  \"mediano\", \"grande\", \"muy grande\"]\n",
    "\n",
    "vehiculos['tamano_motor_tipo'] = pd.qcut(vehiculos['desplazamiento'],\n",
    "                                  5, tipos_tamaño_motor)"
   ]
  },
  {
   "cell_type": "code",
   "execution_count": 55,
   "id": "3547d303",
   "metadata": {},
   "outputs": [],
   "source": [
    "tipos_consumo = ['muy bajo', 'bajo', 'moderado', 'alto', 'muy alto']\n",
    "\n",
    "vehiculos['consumo_tipo'] = pd.qcut(vehiculos['consumo'],\n",
    "                                  5, tipos_consumo)"
   ]
  },
  {
   "cell_type": "code",
   "execution_count": 56,
   "id": "71f32314",
   "metadata": {},
   "outputs": [],
   "source": [
    "tipos_co2 = ['muy bajo', 'bajo', 'moderado', 'alto', 'muy alto']\n",
    "\n",
    "vehiculos['co2_tipo'] = pd.qcut(vehiculos['co2'],\n",
    "                                  5, tipos_co2)"
   ]
  },
  {
   "cell_type": "code",
   "execution_count": 57,
   "id": "29dc02ce",
   "metadata": {},
   "outputs": [
    {
     "data": {
      "text/html": [
       "<div>\n",
       "<style scoped>\n",
       "    .dataframe tbody tr th:only-of-type {\n",
       "        vertical-align: middle;\n",
       "    }\n",
       "\n",
       "    .dataframe tbody tr th {\n",
       "        vertical-align: top;\n",
       "    }\n",
       "\n",
       "    .dataframe thead th {\n",
       "        text-align: right;\n",
       "    }\n",
       "</style>\n",
       "<table border=\"1\" class=\"dataframe\">\n",
       "  <thead>\n",
       "    <tr style=\"text-align: right;\">\n",
       "      <th></th>\n",
       "      <th>marca</th>\n",
       "      <th>modelo</th>\n",
       "      <th>year</th>\n",
       "      <th>desplazamiento</th>\n",
       "      <th>cilindros</th>\n",
       "      <th>transmision</th>\n",
       "      <th>traccion</th>\n",
       "      <th>clase</th>\n",
       "      <th>combustible</th>\n",
       "      <th>consumo</th>\n",
       "      <th>co2</th>\n",
       "      <th>clase_tipo</th>\n",
       "      <th>traccion_tipo</th>\n",
       "      <th>transmision_tipo</th>\n",
       "      <th>combustible_tipo</th>\n",
       "      <th>tamano_motor_tipo</th>\n",
       "      <th>consumo_tipo</th>\n",
       "      <th>co2_tipo</th>\n",
       "    </tr>\n",
       "  </thead>\n",
       "  <tbody>\n",
       "    <tr>\n",
       "      <th>0</th>\n",
       "      <td>AM General</td>\n",
       "      <td>DJ Po Vehicle 2WD</td>\n",
       "      <td>1984</td>\n",
       "      <td>2.5</td>\n",
       "      <td>4.0</td>\n",
       "      <td>Automatic 3-spd</td>\n",
       "      <td>2-Wheel Drive</td>\n",
       "      <td>Special Purpose Vehicle 2WD</td>\n",
       "      <td>Regular</td>\n",
       "      <td>17</td>\n",
       "      <td>522.764706</td>\n",
       "      <td>Vehículos Especiales</td>\n",
       "      <td>dos</td>\n",
       "      <td>Automatica</td>\n",
       "      <td>Normal</td>\n",
       "      <td>pequeño</td>\n",
       "      <td>bajo</td>\n",
       "      <td>alto</td>\n",
       "    </tr>\n",
       "    <tr>\n",
       "      <th>2</th>\n",
       "      <td>AM General</td>\n",
       "      <td>FJ8c Post Office</td>\n",
       "      <td>1984</td>\n",
       "      <td>4.2</td>\n",
       "      <td>6.0</td>\n",
       "      <td>Automatic 3-spd</td>\n",
       "      <td>2-Wheel Drive</td>\n",
       "      <td>Special Purpose Vehicle 2WD</td>\n",
       "      <td>Regular</td>\n",
       "      <td>13</td>\n",
       "      <td>683.615385</td>\n",
       "      <td>Vehículos Especiales</td>\n",
       "      <td>dos</td>\n",
       "      <td>Automatica</td>\n",
       "      <td>Normal</td>\n",
       "      <td>grande</td>\n",
       "      <td>muy bajo</td>\n",
       "      <td>muy alto</td>\n",
       "    </tr>\n",
       "    <tr>\n",
       "      <th>4</th>\n",
       "      <td>AM General</td>\n",
       "      <td>Post Office DJ5 2WD</td>\n",
       "      <td>1985</td>\n",
       "      <td>2.5</td>\n",
       "      <td>4.0</td>\n",
       "      <td>Automatic 3-spd</td>\n",
       "      <td>Rear-Wheel Drive</td>\n",
       "      <td>Special Purpose Vehicle 2WD</td>\n",
       "      <td>Regular</td>\n",
       "      <td>16</td>\n",
       "      <td>555.437500</td>\n",
       "      <td>Vehículos Especiales</td>\n",
       "      <td>dos</td>\n",
       "      <td>Automatica</td>\n",
       "      <td>Normal</td>\n",
       "      <td>pequeño</td>\n",
       "      <td>muy bajo</td>\n",
       "      <td>alto</td>\n",
       "    </tr>\n",
       "    <tr>\n",
       "      <th>5</th>\n",
       "      <td>AM General</td>\n",
       "      <td>Post Office DJ8 2WD</td>\n",
       "      <td>1985</td>\n",
       "      <td>4.2</td>\n",
       "      <td>6.0</td>\n",
       "      <td>Automatic 3-spd</td>\n",
       "      <td>Rear-Wheel Drive</td>\n",
       "      <td>Special Purpose Vehicle 2WD</td>\n",
       "      <td>Regular</td>\n",
       "      <td>13</td>\n",
       "      <td>683.615385</td>\n",
       "      <td>Vehículos Especiales</td>\n",
       "      <td>dos</td>\n",
       "      <td>Automatica</td>\n",
       "      <td>Normal</td>\n",
       "      <td>grande</td>\n",
       "      <td>muy bajo</td>\n",
       "      <td>muy alto</td>\n",
       "    </tr>\n",
       "    <tr>\n",
       "      <th>6</th>\n",
       "      <td>ASC Incorporated</td>\n",
       "      <td>GNX</td>\n",
       "      <td>1987</td>\n",
       "      <td>3.8</td>\n",
       "      <td>6.0</td>\n",
       "      <td>Automatic 4-spd</td>\n",
       "      <td>Rear-Wheel Drive</td>\n",
       "      <td>Midsize Cars</td>\n",
       "      <td>Premium</td>\n",
       "      <td>16</td>\n",
       "      <td>555.437500</td>\n",
       "      <td>Coches Medianos</td>\n",
       "      <td>dos</td>\n",
       "      <td>Automatica</td>\n",
       "      <td>Premium</td>\n",
       "      <td>grande</td>\n",
       "      <td>muy bajo</td>\n",
       "      <td>alto</td>\n",
       "    </tr>\n",
       "  </tbody>\n",
       "</table>\n",
       "</div>"
      ],
      "text/plain": [
       "              marca               modelo  year  desplazamiento  cilindros  \\\n",
       "0        AM General    DJ Po Vehicle 2WD  1984             2.5        4.0   \n",
       "2        AM General     FJ8c Post Office  1984             4.2        6.0   \n",
       "4        AM General  Post Office DJ5 2WD  1985             2.5        4.0   \n",
       "5        AM General  Post Office DJ8 2WD  1985             4.2        6.0   \n",
       "6  ASC Incorporated                  GNX  1987             3.8        6.0   \n",
       "\n",
       "       transmision          traccion                        clase combustible  \\\n",
       "0  Automatic 3-spd     2-Wheel Drive  Special Purpose Vehicle 2WD     Regular   \n",
       "2  Automatic 3-spd     2-Wheel Drive  Special Purpose Vehicle 2WD     Regular   \n",
       "4  Automatic 3-spd  Rear-Wheel Drive  Special Purpose Vehicle 2WD     Regular   \n",
       "5  Automatic 3-spd  Rear-Wheel Drive  Special Purpose Vehicle 2WD     Regular   \n",
       "6  Automatic 4-spd  Rear-Wheel Drive                 Midsize Cars     Premium   \n",
       "\n",
       "   consumo         co2            clase_tipo traccion_tipo transmision_tipo  \\\n",
       "0       17  522.764706  Vehículos Especiales           dos       Automatica   \n",
       "2       13  683.615385  Vehículos Especiales           dos       Automatica   \n",
       "4       16  555.437500  Vehículos Especiales           dos       Automatica   \n",
       "5       13  683.615385  Vehículos Especiales           dos       Automatica   \n",
       "6       16  555.437500       Coches Medianos           dos       Automatica   \n",
       "\n",
       "  combustible_tipo tamano_motor_tipo consumo_tipo  co2_tipo  \n",
       "0           Normal           pequeño         bajo      alto  \n",
       "2           Normal            grande     muy bajo  muy alto  \n",
       "4           Normal           pequeño     muy bajo      alto  \n",
       "5           Normal            grande     muy bajo  muy alto  \n",
       "6          Premium            grande     muy bajo      alto  "
      ]
     },
     "execution_count": 57,
     "metadata": {},
     "output_type": "execute_result"
    }
   ],
   "source": [
    "vehiculos.head()"
   ]
  },
  {
   "cell_type": "code",
   "execution_count": 58,
   "id": "9cb11531",
   "metadata": {},
   "outputs": [],
   "source": [
    "litros_por_galon =  3.78541\n",
    "\n",
    "vehiculos[\"consumo_litros_milla\"] = litros_por_galon/ vehiculos.consumo"
   ]
  },
  {
   "cell_type": "code",
   "execution_count": 59,
   "id": "cc6d3878",
   "metadata": {},
   "outputs": [
    {
     "data": {
      "image/png": "[encoded data removed]",
      "text/plain": [
       "<Figure size 640x480 with 1 Axes>"
      ]
     },
     "metadata": {},
     "output_type": "display_data"
    }
   ],
   "source": [
    "vehiculos.plot.scatter(x=\"consumo_litros_milla\",y=\"co2\");"
   ]
  },
  {
   "cell_type": "code",
   "execution_count": 60,
   "id": "1f4ae327",
   "metadata": {},
   "outputs": [
    {
     "data": {
      "text/plain": [
       "0        alto\n",
       "2    muy alto\n",
       "4        alto\n",
       "5    muy alto\n",
       "6        alto\n",
       "Name: consumo_tipo, dtype: category\n",
       "Categories (5, object): ['muy bajo' < 'bajo' < 'moderado' < 'alto' < 'muy alto']"
      ]
     },
     "execution_count": 60,
     "metadata": {},
     "output_type": "execute_result"
    }
   ],
   "source": [
    "tipos_consumo = ['muy bajo', 'bajo', 'moderado', 'alto', 'muy alto']\n",
    "\n",
    "vehiculos['consumo_tipo'] = pd.qcut(vehiculos['consumo_litros_milla'],\n",
    "                                  5, labels=tipos_consumo)\n",
    "\n",
    "vehiculos.consumo_tipo.head()"
   ]
  },
  {
   "cell_type": "code",
   "execution_count": 62,
   "id": "48719f1c",
   "metadata": {},
   "outputs": [],
   "source": [
    "vehiculos.to_pickle(\"/home/carlostr/curso_data_science-master/Secciones/Seccion4.Analisis_y_procesado_de_datos/Procesado_de_Datos/data/vehiculos.3.variables_agrupadas.pkl\")"
   ]
  },
  {
   "cell_type": "code",
   "execution_count": null,
   "id": "cad3e416",
   "metadata": {},
   "outputs": [],
   "source": []
  }
 ],
 "metadata": {
  "kernelspec": {
   "display_name": "Python 3 (ipykernel)",
   "language": "python",
   "name": "python3"
  },
  "language_info": {
   "codemirror_mode": {
    "name": "ipython",
    "version": 3
   },
   "file_extension": ".py",
   "mimetype": "text/x-python",
   "name": "python",
   "nbconvert_exporter": "python",
   "pygments_lexer": "ipython3",
   "version": "3.10.11"
  }
 },
 "nbformat": 4,
 "nbformat_minor": 5
}
