{
 "cells": [
  {
   "cell_type": "code",
   "execution_count": 39,
   "id": "5f90a302",
   "metadata": {},
   "outputs": [],
   "source": [
    "import sys\n",
    "import numpy as np\n"
   ]
  },
  {
   "cell_type": "code",
   "execution_count": 40,
   "id": "4faf0f21",
   "metadata": {},
   "outputs": [
    {
     "data": {
      "text/plain": [
       "numpy.ndarray"
      ]
     },
     "execution_count": 40,
     "metadata": {},
     "output_type": "execute_result"
    }
   ],
   "source": [
    "array_1d = np.array([4,5,6])\n",
    "type(array_1d)"
   ]
  },
  {
   "cell_type": "code",
   "execution_count": 41,
   "id": "7794794f",
   "metadata": {},
   "outputs": [
    {
     "data": {
      "text/plain": [
       "1"
      ]
     },
     "execution_count": 41,
     "metadata": {},
     "output_type": "execute_result"
    }
   ],
   "source": [
    "array_1d.ndim"
   ]
  },
  {
   "cell_type": "code",
   "execution_count": 42,
   "id": "6f8d908e",
   "metadata": {},
   "outputs": [
    {
     "data": {
      "text/plain": [
       "(3,)"
      ]
     },
     "execution_count": 42,
     "metadata": {},
     "output_type": "execute_result"
    }
   ],
   "source": [
    "array_1d.shape"
   ]
  },
  {
   "cell_type": "code",
   "execution_count": 43,
   "id": "c7203740",
   "metadata": {},
   "outputs": [],
   "source": [
    "matriz = np.array([[1,2],[3,4]]) #Creamos una matriz de dos dimensiones"
   ]
  },
  {
   "cell_type": "code",
   "execution_count": 44,
   "id": "8bc8d9d2",
   "metadata": {},
   "outputs": [
    {
     "data": {
      "text/plain": [
       "2"
      ]
     },
     "execution_count": 44,
     "metadata": {},
     "output_type": "execute_result"
    }
   ],
   "source": [
    "matriz.ndim #Nos indica las dimensiones de la matriz"
   ]
  },
  {
   "cell_type": "code",
   "execution_count": 45,
   "id": "0f9257d4",
   "metadata": {},
   "outputs": [
    {
     "data": {
      "text/plain": [
       "(2, 2)"
      ]
     },
     "execution_count": 45,
     "metadata": {},
     "output_type": "execute_result"
    }
   ],
   "source": [
    "matriz.shape #nos indica la forma de la matriz, 2x2 en este caso "
   ]
  },
  {
   "cell_type": "code",
   "execution_count": 46,
   "id": "92707216",
   "metadata": {},
   "outputs": [
    {
     "data": {
      "text/plain": [
       "array([[0., 0.],\n",
       "       [0., 0.]])"
      ]
     },
     "execution_count": 46,
     "metadata": {},
     "output_type": "execute_result"
    }
   ],
   "source": [
    "np.zeros([2,2])"
   ]
  },
  {
   "cell_type": "code",
   "execution_count": 47,
   "id": "078fc3a8",
   "metadata": {},
   "outputs": [
    {
     "data": {
      "text/plain": [
       "array([[1., 0.],\n",
       "       [0., 1.]])"
      ]
     },
     "execution_count": 47,
     "metadata": {},
     "output_type": "execute_result"
    }
   ],
   "source": [
    "np.eye(2) #MATRIZ IDENTIDAD "
   ]
  },
  {
   "cell_type": "code",
   "execution_count": 48,
   "id": "f53d4573",
   "metadata": {},
   "outputs": [
    {
     "data": {
      "text/plain": [
       "array([[0.68296859, 0.50243844, 0.44105784],\n",
       "       [0.95928693, 0.60280811, 0.96560828],\n",
       "       [0.02914324, 0.5837045 , 0.70035455]])"
      ]
     },
     "execution_count": 48,
     "metadata": {},
     "output_type": "execute_result"
    }
   ],
   "source": [
    "np.random.random([3,3]) #Crea una matriz 3x3 con numeros random de 0-1"
   ]
  },
  {
   "cell_type": "code",
   "execution_count": 49,
   "id": "4ed256fa",
   "metadata": {},
   "outputs": [
    {
     "name": "stdout",
     "output_type": "stream",
     "text": [
      "1,2,3\r\n",
      "4,5,6\r\n",
      "7,8,9\r\n"
     ]
    }
   ],
   "source": [
    "!cat matriz3x3.txt #Mostramos el texto dentro del archivo matriz3x3.txt"
   ]
  },
  {
   "cell_type": "code",
   "execution_count": 50,
   "id": "5bba3dfc",
   "metadata": {},
   "outputs": [
    {
     "data": {
      "text/plain": [
       "array([[1., 2., 3.],\n",
       "       [4., 5., 6.],\n",
       "       [7., 8., 9.]])"
      ]
     },
     "execution_count": 50,
     "metadata": {},
     "output_type": "execute_result"
    }
   ],
   "source": [
    "np_text = np.genfromtxt(\"matriz3x3.txt\",delimiter=\",\") #Creamos el array desde el archivo .txt\n",
    "# y colocamos como delimitador las comas \n",
    "np_text"
   ]
  },
  {
   "cell_type": "code",
   "execution_count": 51,
   "id": "f44989ed",
   "metadata": {},
   "outputs": [
    {
     "name": "stdout",
     "output_type": "stream",
     "text": [
      "([1, 2, 3], [4, 5, 6])\n"
     ]
    },
    {
     "data": {
      "text/plain": [
       "array([[1, 2, 3],\n",
       "       [4, 5, 6]])"
      ]
     },
     "execution_count": 51,
     "metadata": {},
     "output_type": "execute_result"
    }
   ],
   "source": [
    "#Aqui se muestran las diferencias entre crear una lista 2d y un array 2d \n",
    "lista_2d = ([1,2,3],[4,5,6]) #Creamos una lista 2d\n",
    "print(lista_2d)\n",
    "array_2d = np.array([[1,2,3],[4,5,6]]) # Creamos un array \n",
    "array_2d "
   ]
  },
  {
   "cell_type": "code",
   "execution_count": 52,
   "id": "41fde6f6",
   "metadata": {},
   "outputs": [
    {
     "name": "stdout",
     "output_type": "stream",
     "text": [
      "[range(0, 10)] [0 1 2 3 4 5 6 7 8 9]\n"
     ]
    }
   ],
   "source": [
    "big_lista = list([range(10)])\n",
    "big_array = np.array(range(10))\n",
    "print(big_lista,big_array)"
   ]
  },
  {
   "cell_type": "code",
   "execution_count": 63,
   "id": "02499077",
   "metadata": {},
   "outputs": [
    {
     "name": "stdout",
     "output_type": "stream",
     "text": [
      "13.2 ms ± 146 µs per loop (mean ± std. dev. of 3 runs, 100 loops each)\n"
     ]
    }
   ],
   "source": [
    "\n",
    "%%timeit -r 3 -n 100\n",
    "sum(range(1000000))"
   ]
  },
  {
   "cell_type": "code",
   "execution_count": 64,
   "id": "12aec98f",
   "metadata": {},
   "outputs": [
    {
     "name": "stdout",
     "output_type": "stream",
     "text": [
      "705 µs ± 16.5 µs per loop (mean ± std. dev. of 3 runs, 100 loops each)\n"
     ]
    }
   ],
   "source": [
    "%%timeit -r 3 -n 100\n",
    "np.sum(np.arange(1000000))"
   ]
  },
  {
   "cell_type": "code",
   "execution_count": 68,
   "id": "19c71345",
   "metadata": {},
   "outputs": [
    {
     "name": "stdout",
     "output_type": "stream",
     "text": [
      "[[1 2 3]\n",
      " [4 5 6]\n",
      " [7 8 9]]\n"
     ]
    },
    {
     "data": {
      "text/plain": [
       "5"
      ]
     },
     "execution_count": 68,
     "metadata": {},
     "output_type": "execute_result"
    }
   ],
   "source": [
    "array = np.array(([1,2,3],[4,5,6],[7,8,9]))\n",
    "print(array)\n",
    "array [1,1]"
   ]
  },
  {
   "cell_type": "code",
   "execution_count": 75,
   "id": "c9f804e8",
   "metadata": {},
   "outputs": [
    {
     "name": "stdout",
     "output_type": "stream",
     "text": [
      "[[7 8 9]]\n",
      "--------------------\n",
      "[[1 2 3]]\n",
      "--------------------\n",
      "[[1 2 3]\n",
      " [4 5 6]]\n"
     ]
    }
   ],
   "source": [
    "print(array[2:3])\n",
    "print(\"--------------------\")\n",
    "print(array[:1])\n",
    "print(\"--------------------\")\n",
    "print(array[:2])"
   ]
  },
  {
   "cell_type": "code",
   "execution_count": 78,
   "id": "d8f6a8c7",
   "metadata": {},
   "outputs": [
    {
     "data": {
      "text/plain": [
       "array([[1, 2],\n",
       "       [2, 3],\n",
       "       [2, 5]])"
      ]
     },
     "execution_count": 78,
     "metadata": {},
     "output_type": "execute_result"
    }
   ],
   "source": [
    "matriz_32 = np.array(([1,2],[2,3],[2,5]))\n",
    "matriz_32"
   ]
  },
  {
   "cell_type": "code",
   "execution_count": 81,
   "id": "40ad8c75",
   "metadata": {},
   "outputs": [
    {
     "data": {
      "text/plain": [
       "array([[False, False],\n",
       "       [False,  True],\n",
       "       [False,  True]])"
      ]
     },
     "execution_count": 81,
     "metadata": {},
     "output_type": "execute_result"
    }
   ],
   "source": [
    "filtrado = matriz_32 > 2\n",
    "filtrado"
   ]
  },
  {
   "cell_type": "code",
   "execution_count": 82,
   "id": "0c923aa4",
   "metadata": {},
   "outputs": [
    {
     "data": {
      "text/plain": [
       "array([3, 5])"
      ]
     },
     "execution_count": 82,
     "metadata": {},
     "output_type": "execute_result"
    }
   ],
   "source": [
    "matriz_32[filtrado]\n"
   ]
  },
  {
   "cell_type": "code",
   "execution_count": 84,
   "id": "6abdbbc2",
   "metadata": {},
   "outputs": [
    {
     "data": {
      "text/plain": [
       "array([[2, 2],\n",
       "       [6, 6]])"
      ]
     },
     "execution_count": 84,
     "metadata": {},
     "output_type": "execute_result"
    }
   ],
   "source": [
    "array1 = np.array(([1,1],[2,2]))\n",
    "array2 = np.array(([2,2],[3,3]))\n",
    "array1*array2 #esta multiplicacion solo multiplica los numeros de la misma casilla no es una multiplicacion de matrices\n"
   ]
  },
  {
   "cell_type": "code",
   "execution_count": 85,
   "id": "f6bf6a80",
   "metadata": {},
   "outputs": [
    {
     "data": {
      "text/plain": [
       "array([[ 5,  5],\n",
       "       [10, 10]])"
      ]
     },
     "execution_count": 85,
     "metadata": {},
     "output_type": "execute_result"
    }
   ],
   "source": [
    "array1 @ array2 #multiplicacion matricial "
   ]
  },
  {
   "cell_type": "code",
   "execution_count": null,
   "id": "e3277731",
   "metadata": {},
   "outputs": [],
   "source": []
  }
 ],
 "metadata": {
  "kernelspec": {
   "display_name": "Python 3 (ipykernel)",
   "language": "python",
   "name": "python3"
  },
  "language_info": {
   "codemirror_mode": {
    "name": "ipython",
    "version": 3
   },
   "file_extension": ".py",
   "mimetype": "text/x-python",
   "name": "python",
   "nbconvert_exporter": "python",
   "pygments_lexer": "ipython3",
   "version": "3.10.11"
  }
 },
 "nbformat": 4,
 "nbformat_minor": 5
}
