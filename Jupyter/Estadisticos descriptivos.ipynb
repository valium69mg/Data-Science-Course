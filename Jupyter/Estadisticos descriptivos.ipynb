{
 "cells": [
  {
   "cell_type": "code",
   "execution_count": 1,
   "id": "fa9bd8bc",
   "metadata": {},
   "outputs": [],
   "source": [
    "import numpy as np\n",
    "import pandas as pd\n",
    "import scipy.stats as stats"
   ]
  },
  {
   "cell_type": "code",
   "execution_count": 2,
   "id": "dc0de3b4",
   "metadata": {},
   "outputs": [],
   "source": [
    "pesos = [100,150,150,200,250,300,325,400,415,500,600,1000]"
   ]
  },
  {
   "cell_type": "code",
   "execution_count": 4,
   "id": "03ef24e7",
   "metadata": {},
   "outputs": [
    {
     "data": {
      "text/plain": [
       "365.8333333333333"
      ]
     },
     "execution_count": 4,
     "metadata": {},
     "output_type": "execute_result"
    }
   ],
   "source": [
    "# MEDIA\n",
    "pesos_media = np.mean(pesos)\n",
    "pesos_media"
   ]
  },
  {
   "cell_type": "code",
   "execution_count": 5,
   "id": "722c1e10",
   "metadata": {},
   "outputs": [
    {
     "data": {
      "text/plain": [
       "312.5"
      ]
     },
     "execution_count": 5,
     "metadata": {},
     "output_type": "execute_result"
    }
   ],
   "source": [
    "# MEDIANA\n",
    "pesos_mediana = np.median(pesos)\n",
    "pesos_mediana"
   ]
  },
  {
   "cell_type": "code",
   "execution_count": 6,
   "id": "cd696dd3",
   "metadata": {},
   "outputs": [
    {
     "name": "stderr",
     "output_type": "stream",
     "text": [
      "/tmp/ipykernel_3559/3110217556.py:2: FutureWarning: Unlike other reduction functions (e.g. `skew`, `kurtosis`), the default behavior of `mode` typically preserves the axis it acts along. In SciPy 1.11.0, this behavior will change: the default value of `keepdims` will become False, the `axis` over which the statistic is taken will be eliminated, and the value None will no longer be accepted. Set `keepdims` to True or False to avoid this warning.\n",
      "  pesos_moda = stats.mode(pesos)\n"
     ]
    },
    {
     "data": {
      "text/plain": [
       "ModeResult(mode=array([150]), count=array([2]))"
      ]
     },
     "execution_count": 6,
     "metadata": {},
     "output_type": "execute_result"
    }
   ],
   "source": [
    "# MODA \n",
    "pesos_moda = stats.mode(pesos)\n",
    "pesos_moda"
   ]
  },
  {
   "cell_type": "code",
   "execution_count": 8,
   "id": "0b3dc272",
   "metadata": {},
   "outputs": [
    {
     "data": {
      "text/plain": [
       "900"
      ]
     },
     "execution_count": 8,
     "metadata": {},
     "output_type": "execute_result"
    }
   ],
   "source": [
    "rango = np.max(pesos) - np.min(pesos)\n",
    "rango"
   ]
  },
  {
   "cell_type": "code",
   "execution_count": 9,
   "id": "90e03b19",
   "metadata": {},
   "outputs": [
    {
     "data": {
      "text/plain": [
       "array([172.5 , 312.5 , 461.75])"
      ]
     },
     "execution_count": 9,
     "metadata": {},
     "output_type": "execute_result"
    }
   ],
   "source": [
    "#Cuartiles e IQR\n",
    "stats.mstats.mquantiles(pesos)"
   ]
  },
  {
   "cell_type": "code",
   "execution_count": 11,
   "id": "7a601d72",
   "metadata": {},
   "outputs": [
    {
     "data": {
      "text/plain": [
       "IntervalIndex([(99.999, 187.5], (187.5, 312.5], (312.5, 436.25], (436.25, 1000.0]], dtype='interval[float64, right]')"
      ]
     },
     "execution_count": 11,
     "metadata": {},
     "output_type": "execute_result"
    }
   ],
   "source": [
    "pesos_cuartiles = pd.qcut(pesos,4)\n",
    "pesos_cuartiles.categories"
   ]
  },
  {
   "cell_type": "code",
   "execution_count": 14,
   "id": "af064228",
   "metadata": {},
   "outputs": [
    {
     "data": {
      "text/plain": [
       "248.75"
      ]
     },
     "execution_count": 14,
     "metadata": {},
     "output_type": "execute_result"
    }
   ],
   "source": [
    "IQR = 436.25 -187.5\n",
    "IQR"
   ]
  },
  {
   "cell_type": "code",
   "execution_count": 17,
   "id": "71c24c0e",
   "metadata": {},
   "outputs": [
    {
     "data": {
      "text/plain": [
       "239.6771555423856"
      ]
     },
     "execution_count": 17,
     "metadata": {},
     "output_type": "execute_result"
    }
   ],
   "source": [
    "#Desviacion estandar \n",
    "pesos_desviacion = np.std(pesos)\n",
    "pesos_desviacion"
   ]
  },
  {
   "cell_type": "code",
   "execution_count": 19,
   "id": "767e7195",
   "metadata": {},
   "outputs": [
    {
     "data": {
      "text/plain": [
       "1.3623858394083481"
      ]
     },
     "execution_count": 19,
     "metadata": {},
     "output_type": "execute_result"
    }
   ],
   "source": [
    "#coeficiente de simetria\n",
    "stats.skew(pesos)\n"
   ]
  },
  {
   "cell_type": "code",
   "execution_count": 21,
   "id": "657efbb2",
   "metadata": {},
   "outputs": [
    {
     "data": {
      "text/plain": [
       "1.4285722765161841"
      ]
     },
     "execution_count": 21,
     "metadata": {},
     "output_type": "execute_result"
    }
   ],
   "source": [
    "#Coeficiente de curtosis \n",
    "stats.kurtosis(pesos)"
   ]
  },
  {
   "cell_type": "code",
   "execution_count": null,
   "id": "f4b63076",
   "metadata": {},
   "outputs": [],
   "source": []
  }
 ],
 "metadata": {
  "kernelspec": {
   "display_name": "Python 3 (ipykernel)",
   "language": "python",
   "name": "python3"
  },
  "language_info": {
   "codemirror_mode": {
    "name": "ipython",
    "version": 3
   },
   "file_extension": ".py",
   "mimetype": "text/x-python",
   "name": "python",
   "nbconvert_exporter": "python",
   "pygments_lexer": "ipython3",
   "version": "3.10.11"
  }
 },
 "nbformat": 4,
 "nbformat_minor": 5
}
